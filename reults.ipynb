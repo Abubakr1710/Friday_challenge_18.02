{
 "cells": [
  {
   "cell_type": "code",
   "execution_count": null,
   "metadata": {},
   "outputs": [],
   "source": []
  },
  {
   "cell_type": "markdown",
   "metadata": {},
   "source": [
    "Total no.of persons = 500\n",
    "Total no.of males = 245\n",
    "Total no.of femals =255\n",
    "# Females overweighted = BMI>3\n",
    "Total no.of females overweighted = 200\n",
    "\n",
    "\n",
    "# Males overweighted= BMI>3\n",
    "Total no.of males overweighted = 196\n",
    "\n",
    "# BMI -0\n",
    "total = 13\n",
    "male =6\n",
    "\n",
    "# BMI -1\n",
    "total = 22\n",
    "male =\n",
    "female =\n",
    "\n",
    "# BMI-2\n",
    "total = 69\n",
    "male =\n",
    "female =\n",
    "\n",
    "# BMI-3\n",
    "total = 68\n",
    "male =\n",
    "female =\n",
    "\n",
    "\n",
    "# BMI-4\n",
    "total = 130\n",
    "male =\n",
    "female =\n",
    "\n",
    "\n",
    "# BMI-5\n",
    "total = 198\n",
    "male =\n",
    "female ="
   ]
  }
 ],
 "metadata": {
  "language_info": {
   "name": "python"
  },
  "orig_nbformat": 4
 },
 "nbformat": 4,
 "nbformat_minor": 2
}
